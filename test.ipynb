{
 "cells": [
  {
   "cell_type": "code",
   "execution_count": 2,
   "metadata": {},
   "outputs": [
    {
     "name": "stderr",
     "output_type": "stream",
     "text": [
      "/home/dai/anaconda3/envs/dxt/lib/python3.8/site-packages/tqdm/auto.py:22: TqdmWarning: IProgress not found. Please update jupyter and ipywidgets. See https://ipywidgets.readthedocs.io/en/stable/user_install.html\n",
      "  from .autonotebook import tqdm as notebook_tqdm\n"
     ]
    }
   ],
   "source": [
    "import torch"
   ]
  },
  {
   "cell_type": "code",
   "execution_count": 3,
   "metadata": {},
   "outputs": [
    {
     "name": "stdout",
     "output_type": "stream",
     "text": [
      "True\n"
     ]
    }
   ],
   "source": [
    "print(torch.cuda.is_available())"
   ]
  },
  {
   "cell_type": "code",
   "execution_count": 7,
   "metadata": {},
   "outputs": [
    {
     "name": "stdout",
     "output_type": "stream",
     "text": [
      "tensor([[0.3854, 0.1021, 0.6359],\n",
      "        [0.1453, 0.4799, 0.9796]])\n",
      "tensor([[0.5304, 0.8479, 0.1234],\n",
      "        [0.5257, 0.5502, 0.9305]])\n",
      "torch.Size([2, 2, 3])\n",
      "tensor([[[0.3854, 0.1021, 0.6359],\n",
      "         [0.1453, 0.4799, 0.9796]],\n",
      "\n",
      "        [[0.5304, 0.8479, 0.1234],\n",
      "         [0.5257, 0.5502, 0.9305]]])\n"
     ]
    }
   ],
   "source": [
    "b1 = torch.rand([2,3])\n",
    "print(b1)\n",
    "\n",
    "b2 = torch.rand([2,3])\n",
    "print(b2)\n",
    "a = []\n",
    "a.append(b1)\n",
    "a.append(b2)\n",
    "c = torch.stack(a)\n",
    "print(c.size())\n",
    "print(c)"
   ]
  },
  {
   "cell_type": "code",
   "execution_count": 2,
   "metadata": {},
   "outputs": [
    {
     "name": "stdout",
     "output_type": "stream",
     "text": [
      "[{'a': 1, 'b': 2}, {'a': 3, 'b': 5}]\n"
     ]
    }
   ],
   "source": [
    "item=[]\n",
    "item.append({'a':1,'b':2})\n",
    "item.append({'a':3,'b':5})\n",
    "print(item)"
   ]
  },
  {
   "cell_type": "code",
   "execution_count": 14,
   "metadata": {},
   "outputs": [
    {
     "name": "stderr",
     "output_type": "stream",
     "text": [
      "/Users/dai/opt/anaconda3/envs/dxt/lib/python3.8/site-packages/tqdm/auto.py:22: TqdmWarning: IProgress not found. Please update jupyter and ipywidgets. See https://ipywidgets.readthedocs.io/en/stable/user_install.html\n",
      "  from .autonotebook import tqdm as notebook_tqdm\n"
     ]
    }
   ],
   "source": [
    "from transformers import AutoTokenizer"
   ]
  },
  {
   "cell_type": "code",
   "execution_count": null,
   "metadata": {},
   "outputs": [],
   "source": [
    "tokenizer = AutoTokenizer.from_pretrained(\"bert-base-uncased\")\n",
    "sentences = ['LIHUA IS','hinata bb','xuxu','f','sdffgter wergffg']\n",
    "sentences = tokenizer(sentences, padding=True)\n",
    "ss = torch.tensor(sentences['input_ids'])\n",
    "print(ss)\n",
    "emb = torch.nn.Embedding(30522,100)\n",
    "e = emb(ss)\n",
    "print(e)\n",
    "print(e.size())"
   ]
  },
  {
   "cell_type": "code",
   "execution_count": 11,
   "metadata": {},
   "outputs": [
    {
     "name": "stderr",
     "output_type": "stream",
     "text": [
      "12/13/2022 15:04:18 - INFO - sentence_transformers.SentenceTransformer -   Load pretrained SentenceTransformer: all-MiniLM-L6-v2\n",
      "Downloading: 100%|██████████| 1.18k/1.18k [00:00<00:00, 1.34MB/s]\n",
      "Downloading: 100%|██████████| 190/190 [00:00<00:00, 193kB/s]\n",
      "Downloading: 100%|██████████| 10.6k/10.6k [00:00<00:00, 7.87MB/s]\n",
      "Downloading: 100%|██████████| 612/612 [00:00<00:00, 839kB/s]\n",
      "Downloading: 100%|██████████| 116/116 [00:00<00:00, 138kB/s]\n",
      "Downloading: 100%|██████████| 39.3k/39.3k [00:00<00:00, 193kB/s] \n",
      "Downloading: 100%|██████████| 90.9M/90.9M [00:02<00:00, 43.2MB/s]\n",
      "Downloading: 100%|██████████| 53.0/53.0 [00:00<00:00, 66.8kB/s]\n",
      "Downloading: 100%|██████████| 112/112 [00:00<00:00, 113kB/s]\n",
      "Downloading: 100%|██████████| 466k/466k [00:00<00:00, 579kB/s] \n",
      "Downloading: 100%|██████████| 350/350 [00:00<00:00, 455kB/s]\n",
      "Downloading: 100%|██████████| 13.2k/13.2k [00:00<00:00, 12.4MB/s]\n",
      "Downloading: 100%|██████████| 232k/232k [00:00<00:00, 279kB/s]  \n",
      "Downloading: 100%|██████████| 349/349 [00:00<00:00, 468kB/s]\n"
     ]
    }
   ],
   "source": [
    "from simcse import SimCSE\n",
    "from sentence_transformers import SentenceTransformer,util\n",
    "model = SimCSE(\"princeton-nlp/sup-simcse-bert-base-uncased\")\n",
    "model_b = SentenceTransformer('all-MiniLM-L6-v2',device='cuda')"
   ]
  },
  {
   "cell_type": "code",
   "execution_count": 14,
   "metadata": {},
   "outputs": [
    {
     "name": "stderr",
     "output_type": "stream",
     "text": [
      "Batches: 100%|██████████| 1/1 [00:00<00:00, 68.25it/s]\n",
      "Batches: 100%|██████████| 1/1 [00:00<00:00, 86.75it/s]\n",
      "100%|██████████| 1/1 [00:00<00:00, 62.75it/s]\n",
      "100%|██████████| 1/1 [00:00<00:00, 64.07it/s]"
     ]
    },
    {
     "name": "stdout",
     "output_type": "stream",
     "text": [
      "similarities [[ 0.01262089  0.6344101 ]\n",
      " [ 0.89384246 -0.01970754]]\n",
      "cosine_score tensor([[-0.0785,  0.6115],\n",
      "        [ 0.8333, -0.0118]], device='cuda:0')\n"
     ]
    },
    {
     "name": "stderr",
     "output_type": "stream",
     "text": [
      "\n"
     ]
    }
   ],
   "source": [
    "sentences_a = ['A woman is reading.', 'A man is playing a guitar.']\n",
    "sentences_b = ['He plays guitar.', 'A woman is writing a biography.']\n",
    "embeddings1 = model_b.encode(sentences_a, convert_to_tensor=True)\n",
    "embeddings2 = model_b.encode(sentences_b, convert_to_tensor=True)\n",
    "cosine_scores = util.cos_sim(embeddings1, embeddings2)\n",
    "similarities = model.similarity(sentences_a, sentences_b)\n",
    "print('similarities',similarities)\n",
    "print('cosine_score',cosine_scores)"
   ]
  }
 ],
 "metadata": {
  "kernelspec": {
   "display_name": "Python 3.8.15 ('dxt')",
   "language": "python",
   "name": "python3"
  },
  "language_info": {
   "codemirror_mode": {
    "name": "ipython",
    "version": 3
   },
   "file_extension": ".py",
   "mimetype": "text/x-python",
   "name": "python",
   "nbconvert_exporter": "python",
   "pygments_lexer": "ipython3",
   "version": "3.8.15"
  },
  "orig_nbformat": 4,
  "vscode": {
   "interpreter": {
    "hash": "18f7a8c13fba2ed1f4d6951cac88b4beca8d7aadb50cdd4efaed15ff73dc3d6c"
   }
  }
 },
 "nbformat": 4,
 "nbformat_minor": 2
}
