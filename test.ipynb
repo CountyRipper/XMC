{
 "cells": [
  {
   "cell_type": "code",
   "execution_count": 2,
   "metadata": {},
   "outputs": [
    {
     "name": "stderr",
     "output_type": "stream",
     "text": [
      "/home/dai/anaconda3/envs/dxt/lib/python3.8/site-packages/tqdm/auto.py:22: TqdmWarning: IProgress not found. Please update jupyter and ipywidgets. See https://ipywidgets.readthedocs.io/en/stable/user_install.html\n",
      "  from .autonotebook import tqdm as notebook_tqdm\n"
     ]
    }
   ],
   "source": [
    "import torch"
   ]
  },
  {
   "cell_type": "code",
   "execution_count": 3,
   "metadata": {},
   "outputs": [
    {
     "name": "stdout",
     "output_type": "stream",
     "text": [
      "True\n"
     ]
    }
   ],
   "source": [
    "print(torch.cuda.is_available())"
   ]
  },
  {
   "cell_type": "code",
   "execution_count": 7,
   "metadata": {},
   "outputs": [
    {
     "name": "stdout",
     "output_type": "stream",
     "text": [
      "tensor([[0.3854, 0.1021, 0.6359],\n",
      "        [0.1453, 0.4799, 0.9796]])\n",
      "tensor([[0.5304, 0.8479, 0.1234],\n",
      "        [0.5257, 0.5502, 0.9305]])\n",
      "torch.Size([2, 2, 3])\n",
      "tensor([[[0.3854, 0.1021, 0.6359],\n",
      "         [0.1453, 0.4799, 0.9796]],\n",
      "\n",
      "        [[0.5304, 0.8479, 0.1234],\n",
      "         [0.5257, 0.5502, 0.9305]]])\n"
     ]
    }
   ],
   "source": [
    "b1 = torch.rand([2,3])\n",
    "print(b1)\n",
    "\n",
    "b2 = torch.rand([2,3])\n",
    "print(b2)\n",
    "a = []\n",
    "a.append(b1)\n",
    "a.append(b2)\n",
    "c = torch.stack(a)\n",
    "print(c.size())\n",
    "print(c)"
   ]
  },
  {
   "cell_type": "code",
   "execution_count": 2,
   "metadata": {},
   "outputs": [
    {
     "name": "stdout",
     "output_type": "stream",
     "text": [
      "[{'a': 1, 'b': 2}, {'a': 3, 'b': 5}]\n"
     ]
    }
   ],
   "source": [
    "item=[]\n",
    "item.append({'a':1,'b':2})\n",
    "item.append({'a':3,'b':5})\n",
    "print(item)"
   ]
  },
  {
   "cell_type": "code",
   "execution_count": 14,
   "metadata": {},
   "outputs": [
    {
     "name": "stderr",
     "output_type": "stream",
     "text": [
      "/Users/dai/opt/anaconda3/envs/dxt/lib/python3.8/site-packages/tqdm/auto.py:22: TqdmWarning: IProgress not found. Please update jupyter and ipywidgets. See https://ipywidgets.readthedocs.io/en/stable/user_install.html\n",
      "  from .autonotebook import tqdm as notebook_tqdm\n"
     ]
    }
   ],
   "source": [
    "from transformers import AutoTokenizer"
   ]
  },
  {
   "cell_type": "code",
   "execution_count": 35,
   "metadata": {},
   "outputs": [
    {
     "ename": "ValueError",
     "evalue": "expected sequence of length 5 at dim 1 (got 6)",
     "output_type": "error",
     "traceback": [
      "\u001b[0;31m---------------------------------------------------------------------------\u001b[0m",
      "\u001b[0;31mValueError\u001b[0m                                Traceback (most recent call last)",
      "Cell \u001b[0;32mIn[35], line 4\u001b[0m\n\u001b[1;32m      2\u001b[0m sentences \u001b[39m=\u001b[39m [\u001b[39m'\u001b[39m\u001b[39mLIHUA IS\u001b[39m\u001b[39m'\u001b[39m,\u001b[39m'\u001b[39m\u001b[39mhinata bb\u001b[39m\u001b[39m'\u001b[39m,\u001b[39m'\u001b[39m\u001b[39mxuxu\u001b[39m\u001b[39m'\u001b[39m,\u001b[39m'\u001b[39m\u001b[39mf\u001b[39m\u001b[39m'\u001b[39m,\u001b[39m'\u001b[39m\u001b[39msdffgter wergffg\u001b[39m\u001b[39m'\u001b[39m]\n\u001b[1;32m      3\u001b[0m sentences \u001b[39m=\u001b[39m tokenizer(sentences, padding\u001b[39m=\u001b[39m\u001b[39mFalse\u001b[39;00m)\n\u001b[0;32m----> 4\u001b[0m ss \u001b[39m=\u001b[39m torch\u001b[39m.\u001b[39;49mtensor(sentences[\u001b[39m'\u001b[39;49m\u001b[39minput_ids\u001b[39;49m\u001b[39m'\u001b[39;49m])\n\u001b[1;32m      5\u001b[0m \u001b[39mprint\u001b[39m(ss)\n\u001b[1;32m      6\u001b[0m emb \u001b[39m=\u001b[39m torch\u001b[39m.\u001b[39mnn\u001b[39m.\u001b[39mEmbedding(\u001b[39m30522\u001b[39m,\u001b[39m100\u001b[39m)\n",
      "\u001b[0;31mValueError\u001b[0m: expected sequence of length 5 at dim 1 (got 6)"
     ]
    }
   ],
   "source": [
    "tokenizer = AutoTokenizer.from_pretrained(\"bert-base-uncased\")\n",
    "sentences = ['LIHUA IS','hinata bb','xuxu','f','sdffgter wergffg']\n",
    "sentences = tokenizer(sentences, padding=True)\n",
    "ss = torch.tensor(sentences['input_ids'])\n",
    "print(ss)\n",
    "emb = torch.nn.Embedding(30522,100)\n",
    "e = emb(ss)\n",
    "print(e)\n",
    "print(e.size())"
   ]
  }
 ],
 "metadata": {
  "kernelspec": {
   "display_name": "Python 3.8.15 ('dxt')",
   "language": "python",
   "name": "python3"
  },
  "language_info": {
   "codemirror_mode": {
    "name": "ipython",
    "version": 3
   },
   "file_extension": ".py",
   "mimetype": "text/x-python",
   "name": "python",
   "nbconvert_exporter": "python",
   "pygments_lexer": "ipython3",
   "version": "3.8.15"
  },
  "orig_nbformat": 4,
  "vscode": {
   "interpreter": {
    "hash": "18f7a8c13fba2ed1f4d6951cac88b4beca8d7aadb50cdd4efaed15ff73dc3d6c"
   }
  }
 },
 "nbformat": 4,
 "nbformat_minor": 2
}
