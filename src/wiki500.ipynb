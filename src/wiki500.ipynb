{
 "cells": [
  {
   "cell_type": "code",
   "execution_count": null,
   "metadata": {},
   "outputs": [],
   "source": [
    "from premethod import wiki500_change\n",
    "from premethod import split_jsonfile\n",
    "from premethod import amazoncat_change"
   ]
  },
  {
   "cell_type": "code",
   "execution_count": null,
   "metadata": {},
   "outputs": [],
   "source": [
    "datadir = ['../dataset/EUR-Lex/','../dataset/Wiki500K/','../dataset/AmazonCat-13K/']"
   ]
  },
  {
   "cell_type": "code",
   "execution_count": 15,
   "metadata": {},
   "outputs": [
    {
     "name": "stderr",
     "output_type": "stream",
     "text": [
      "2022-10-20 13:47:49,347 - premethod - INFO - json_dir: ../dataset/AmazonCat-13K/test.json\n",
      "2022-10-20 13:47:49,348 - premethod - INFO - map_dir:../dataset/AmazonCat-13K/Yf.txt\n",
      "2022-10-20 13:47:49,348 - premethod - INFO - js_output_dir: ../dataset/AmazonCat-13K/test_finetune.json\n",
      "2022-10-20 13:47:49,348 - premethod - INFO - label_output:../dataset/AmazonCat-13K/test_labels.txt\n",
      "2022-10-20 13:47:49,349 - premethod - INFO - texts_output_dir../dataset/AmazonCat-13K/test_texts.txt\n"
     ]
    },
    {
     "ename": "UnicodeDecodeError",
     "evalue": "'utf-8' codec can't decode byte 0xe9 in position 8000: invalid continuation byte",
     "output_type": "error",
     "traceback": [
      "\u001b[0;31m---------------------------------------------------------------------------\u001b[0m",
      "\u001b[0;31mUnicodeDecodeError\u001b[0m                        Traceback (most recent call last)",
      "\u001b[1;32m/home/delab/Hard/XMC/src/wiki500.ipynb Cell 3\u001b[0m in \u001b[0;36m<cell line: 1>\u001b[0;34m()\u001b[0m\n\u001b[0;32m----> <a href='vscode-notebook-cell://ssh-remote%2B192.168.1.182/home/delab/Hard/XMC/src/wiki500.ipynb#W5sdnNjb2RlLXJlbW90ZQ%3D%3D?line=0'>1</a>\u001b[0m amazoncat_change(datadir[\u001b[39m2\u001b[39;49m]\u001b[39m+\u001b[39;49m\u001b[39m\"\u001b[39;49m\u001b[39mtest.json\u001b[39;49m\u001b[39m\"\u001b[39;49m,datadir[\u001b[39m2\u001b[39;49m]\u001b[39m+\u001b[39;49m\u001b[39m\"\u001b[39;49m\u001b[39mYf.txt\u001b[39;49m\u001b[39m\"\u001b[39;49m ,datadir[\u001b[39m2\u001b[39;49m]\u001b[39m+\u001b[39;49m\u001b[39m\"\u001b[39;49m\u001b[39mtest_finetune.json\u001b[39;49m\u001b[39m\"\u001b[39;49m,datadir[\u001b[39m2\u001b[39;49m]\u001b[39m+\u001b[39;49m\u001b[39m\"\u001b[39;49m\u001b[39mtest_labels.txt\u001b[39;49m\u001b[39m\"\u001b[39;49m,datadir[\u001b[39m2\u001b[39;49m]\u001b[39m+\u001b[39;49m\u001b[39m\"\u001b[39;49m\u001b[39mtest_texts.txt\u001b[39;49m\u001b[39m\"\u001b[39;49m)\n\u001b[1;32m      <a href='vscode-notebook-cell://ssh-remote%2B192.168.1.182/home/delab/Hard/XMC/src/wiki500.ipynb#W5sdnNjb2RlLXJlbW90ZQ%3D%3D?line=1'>2</a>\u001b[0m amazoncat_change(datadir[\u001b[39m2\u001b[39m]\u001b[39m+\u001b[39m\u001b[39m\"\u001b[39m\u001b[39mtrain.json\u001b[39m\u001b[39m\"\u001b[39m,datadir[\u001b[39m2\u001b[39m]\u001b[39m+\u001b[39m\u001b[39m\"\u001b[39m\u001b[39mYf.txt\u001b[39m\u001b[39m\"\u001b[39m ,datadir[\u001b[39m2\u001b[39m]\u001b[39m+\u001b[39m\u001b[39m\"\u001b[39m\u001b[39mtrain_finetune.json\u001b[39m\u001b[39m\"\u001b[39m,datadir[\u001b[39m2\u001b[39m]\u001b[39m+\u001b[39m\u001b[39m\"\u001b[39m\u001b[39mtrain_labels.txt\u001b[39m\u001b[39m\"\u001b[39m,datadir[\u001b[39m2\u001b[39m]\u001b[39m+\u001b[39m\u001b[39m\"\u001b[39m\u001b[39mtrain_texts.txt\u001b[39m\u001b[39m\"\u001b[39m)\n",
      "File \u001b[0;32m~/Hard/XMC/src/premethod.py:368\u001b[0m, in \u001b[0;36mamazoncat_change\u001b[0;34m(json_dir, map_dir, js_output_dir, label_output_dir, texts_output_dir)\u001b[0m\n\u001b[1;32m    366\u001b[0m label_map \u001b[39m=\u001b[39m []\n\u001b[1;32m    367\u001b[0m \u001b[39mwith\u001b[39;00m \u001b[39mopen\u001b[39m(map_dir,\u001b[39m'\u001b[39m\u001b[39mr+\u001b[39m\u001b[39m'\u001b[39m) \u001b[39mas\u001b[39;00m map_f:\n\u001b[0;32m--> 368\u001b[0m     \u001b[39mfor\u001b[39;00m row \u001b[39min\u001b[39;00m map_f:\n\u001b[1;32m    369\u001b[0m         label_map\u001b[39m.\u001b[39mappend(row)\n\u001b[1;32m    371\u001b[0m \u001b[39mwith\u001b[39;00m \u001b[39mopen\u001b[39m(json_dir,\u001b[39m'\u001b[39m\u001b[39mr+\u001b[39m\u001b[39m'\u001b[39m) \u001b[39mas\u001b[39;00m j_file:\n",
      "File \u001b[0;32m~/.conda/envs/ddd/lib/python3.8/codecs.py:322\u001b[0m, in \u001b[0;36mBufferedIncrementalDecoder.decode\u001b[0;34m(self, input, final)\u001b[0m\n\u001b[1;32m    319\u001b[0m \u001b[39mdef\u001b[39;00m \u001b[39mdecode\u001b[39m(\u001b[39mself\u001b[39m, \u001b[39minput\u001b[39m, final\u001b[39m=\u001b[39m\u001b[39mFalse\u001b[39;00m):\n\u001b[1;32m    320\u001b[0m     \u001b[39m# decode input (taking the buffer into account)\u001b[39;00m\n\u001b[1;32m    321\u001b[0m     data \u001b[39m=\u001b[39m \u001b[39mself\u001b[39m\u001b[39m.\u001b[39mbuffer \u001b[39m+\u001b[39m \u001b[39minput\u001b[39m\n\u001b[0;32m--> 322\u001b[0m     (result, consumed) \u001b[39m=\u001b[39m \u001b[39mself\u001b[39;49m\u001b[39m.\u001b[39;49m_buffer_decode(data, \u001b[39mself\u001b[39;49m\u001b[39m.\u001b[39;49merrors, final)\n\u001b[1;32m    323\u001b[0m     \u001b[39m# keep undecoded input until the next call\u001b[39;00m\n\u001b[1;32m    324\u001b[0m     \u001b[39mself\u001b[39m\u001b[39m.\u001b[39mbuffer \u001b[39m=\u001b[39m data[consumed:]\n",
      "\u001b[0;31mUnicodeDecodeError\u001b[0m: 'utf-8' codec can't decode byte 0xe9 in position 8000: invalid continuation byte"
     ]
    }
   ],
   "source": [
    "\n",
    "amazoncat_change(datadir[2]+\"test.json\",datadir[2]+\"Yf.txt\" ,datadir[2]+\"test_finetune.json\",datadir[2]+\"test_labels.txt\",datadir[2]+\"test_texts.txt\")\n",
    "amazoncat_change(datadir[2]+\"train.json\",datadir[2]+\"Yf.txt\" ,datadir[2]+\"train_finetune.json\",datadir[2]+\"train_labels.txt\",datadir[2]+\"train_texts.txt\")\n"
   ]
  },
  {
   "cell_type": "code",
   "execution_count": null,
   "metadata": {},
   "outputs": [],
   "source": [
    "\n",
    "#split_jsonfile(datadir[1]+\"test_split.json\",datadir[1]+\"test_split20.json\",2)\n",
    "#split_jsonfile(datadir[1]+\"train_split.json\",datadir[1]+\"train_split20.json\",2)\n",
    "wiki500_change(datadir[1]+\"tst.json\",datadir[1]+\"Yf.txt\" ,datadir[1]+\"test_finetune_a.json\",datadir[1]+\"test_labels_a.txt\",datadir[1]+\"test_texts_a.txt\")\n",
    "wiki500_change(datadir[1]+\"trn.json\",datadir[1]+\"Yf.txt\" ,datadir[1]+\"train_finetune_a.json\",datadir[1]+\"train_labels_a.txt\",datadir[1]+\"train_texts_a.txt\")"
   ]
  },
  {
   "cell_type": "code",
   "execution_count": null,
   "metadata": {},
   "outputs": [],
   "source": [
    "wiki500_change(datadir[1]+\"train_split.json\",datadir[1]+\"train_change.json\")"
   ]
  },
  {
   "cell_type": "markdown",
   "metadata": {},
   "source": [
    "处理分割好的数据"
   ]
  }
 ],
 "metadata": {
  "kernelspec": {
   "display_name": "Python 3.8.13 ('ddd')",
   "language": "python",
   "name": "python3"
  },
  "language_info": {
   "codemirror_mode": {
    "name": "ipython",
    "version": 3
   },
   "file_extension": ".py",
   "mimetype": "text/x-python",
   "name": "python",
   "nbconvert_exporter": "python",
   "pygments_lexer": "ipython3",
   "version": "3.8.13"
  },
  "orig_nbformat": 4,
  "vscode": {
   "interpreter": {
    "hash": "10e709fa339e96f7843340ac24d9af89d0541623630336e668c3e9cf1c0623cc"
   }
  }
 },
 "nbformat": 4,
 "nbformat_minor": 2
}
