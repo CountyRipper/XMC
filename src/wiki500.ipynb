{
 "cells": [
  {
   "cell_type": "code",
   "execution_count": 1,
   "metadata": {},
   "outputs": [
    {
     "name": "stderr",
     "output_type": "stream",
     "text": [
      "[nltk_data] Downloading package stopwords to\n",
      "[nltk_data]     /home/admin02/nltk_data...\n",
      "[nltk_data]   Package stopwords is already up-to-date!\n"
     ]
    }
   ],
   "source": [
    "from premethod import wiki500_change"
   ]
  },
  {
   "cell_type": "code",
   "execution_count": 2,
   "metadata": {},
   "outputs": [],
   "source": [
    "datadir = ['../dataset/EUR-Lex/','../dataset/Wiki500K/']"
   ]
  },
  {
   "cell_type": "code",
   "execution_count": 5,
   "metadata": {},
   "outputs": [
    {
     "name": "stderr",
     "output_type": "stream",
     "text": [
      "2022-10-10 16:48:19,129 - premethod - INFO - wiki500_change\n",
      "2022-10-10 16:48:19,131 - premethod - INFO - json_dir: ../dataset/Wiki500K/test_split.json\n",
      "2022-10-10 16:48:19,131 - premethod - INFO - map_dir:../dataset/Wiki500K/Yf.txt\n",
      "2022-10-10 16:48:19,131 - premethod - INFO - js_output_dir: ../dataset/Wiki500K/test_finetune.json\n",
      "2022-10-10 16:48:19,132 - premethod - INFO - label_output:../dataset/Wiki500K/test_labels.txt\n",
      "2022-10-10 16:48:19,132 - premethod - INFO - texts_output_dir../dataset/Wiki500K/test_texts.txt\n",
      "501070it [00:00, 1985426.91it/s]\n",
      "78375it [00:01, 42788.12it/s]\n",
      "100%|██████████| 78375/78375 [00:03<00:00, 25386.22it/s]\n",
      "100%|██████████| 78375/78375 [00:00<00:00, 825658.69it/s]\n",
      "100%|██████████| 78375/78375 [00:01<00:00, 76130.58it/s]\n",
      "2022-10-10 16:48:25,919 - premethod - INFO - wiki500_change\n",
      "2022-10-10 16:48:25,920 - premethod - INFO - json_dir: ../dataset/Wiki500K/train_split.json\n",
      "2022-10-10 16:48:25,921 - premethod - INFO - map_dir:../dataset/Wiki500K/Yf.txt\n",
      "2022-10-10 16:48:25,921 - premethod - INFO - js_output_dir: ../dataset/Wiki500K/train_finetune.json\n",
      "2022-10-10 16:48:25,921 - premethod - INFO - label_output:../dataset/Wiki500K/train_labels.txt\n",
      "2022-10-10 16:48:25,922 - premethod - INFO - texts_output_dir../dataset/Wiki500K/train_texts.txt\n",
      "501070it [00:00, 1975013.87it/s]\n",
      "181340it [00:04, 40827.69it/s]\n",
      "100%|██████████| 181340/181340 [00:07<00:00, 25495.71it/s]\n",
      "100%|██████████| 181340/181340 [00:00<00:00, 839690.58it/s]\n",
      "100%|██████████| 181340/181340 [00:02<00:00, 76370.96it/s]\n"
     ]
    }
   ],
   "source": [
    "wiki500_change(datadir[1]+\"test_split.json\",datadir[1]+\"Yf.txt\" ,datadir[1]+\"test_finetune.json\",datadir[1]+\"test_labels.txt\",datadir[1]+\"test_texts.txt\")\n",
    "wiki500_change(datadir[1]+\"train_split.json\",datadir[1]+\"Yf.txt\" ,datadir[1]+\"train_finetune.json\",datadir[1]+\"train_labels.txt\",datadir[1]+\"train_texts.txt\")"
   ]
  },
  {
   "cell_type": "code",
   "execution_count": null,
   "metadata": {},
   "outputs": [],
   "source": [
    "wiki500_change(datadir[1]+\"train_split.json\",datadir[1]+\"train_change.json\")"
   ]
  },
  {
   "cell_type": "markdown",
   "metadata": {},
   "source": [
    "处理分割好的数据"
   ]
  }
 ],
 "metadata": {
  "kernelspec": {
   "display_name": "Python 3.8.13 ('dxt')",
   "language": "python",
   "name": "python3"
  },
  "language_info": {
   "codemirror_mode": {
    "name": "ipython",
    "version": 3
   },
   "file_extension": ".py",
   "mimetype": "text/x-python",
   "name": "python",
   "nbconvert_exporter": "python",
   "pygments_lexer": "ipython3",
   "version": "3.8.13"
  },
  "orig_nbformat": 4,
  "vscode": {
   "interpreter": {
    "hash": "3ac9529b4fab9e834390346e7466129441a36f5aa680424ec2e52c810b15a064"
   }
  }
 },
 "nbformat": 4,
 "nbformat_minor": 2
}
