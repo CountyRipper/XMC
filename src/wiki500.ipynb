{
 "cells": [
  {
   "cell_type": "code",
   "execution_count": 1,
   "metadata": {},
   "outputs": [
    {
     "name": "stderr",
     "output_type": "stream",
     "text": [
      "[nltk_data] Downloading package stopwords to /home/delab/nltk_data...\n",
      "[nltk_data]   Package stopwords is already up-to-date!\n"
     ]
    }
   ],
   "source": [
    "from premethod import wiki500_change\n",
    "from premethod import split_jsonfile"
   ]
  },
  {
   "cell_type": "code",
   "execution_count": 2,
   "metadata": {},
   "outputs": [],
   "source": [
    "datadir = ['../dataset/EUR-Lex/','../dataset/Wiki500K/']"
   ]
  },
  {
   "cell_type": "code",
   "execution_count": 3,
   "metadata": {},
   "outputs": [
    {
     "name": "stderr",
     "output_type": "stream",
     "text": [
      "2022-10-11 10:55:51,924 - premethod - INFO - split_file:\n",
      "2022-10-11 10:55:51,924 - premethod - INFO - data_dir: ../dataset/Wiki500K/test_split.json\n",
      "2022-10-11 10:55:51,925 - premethod - INFO - output_dir: ../dataset/Wiki500K/test_split20.json\n",
      "78375it [00:01, 51732.36it/s]\n",
      "100%|██████████| 39188/39188 [00:02<00:00, 18931.02it/s]\n",
      "2022-10-11 10:55:55,513 - premethod - INFO - split ../dataset/Wiki500K/test_split.json end.\n",
      "2022-10-11 10:55:55,541 - premethod - INFO - split_file:\n",
      "2022-10-11 10:55:55,541 - premethod - INFO - data_dir: ../dataset/Wiki500K/train_split.json\n",
      "2022-10-11 10:55:55,541 - premethod - INFO - output_dir: ../dataset/Wiki500K/train_split20.json\n",
      "181340it [00:03, 52261.81it/s]\n",
      "100%|██████████| 90670/90670 [00:04<00:00, 19075.62it/s]\n",
      "2022-10-11 10:56:03,768 - premethod - INFO - split ../dataset/Wiki500K/train_split.json end.\n",
      "2022-10-11 10:56:03,832 - premethod - INFO - wiki500_change\n",
      "2022-10-11 10:56:03,832 - premethod - INFO - json_dir: ../dataset/Wiki500K/test_split20.json\n",
      "2022-10-11 10:56:03,833 - premethod - INFO - map_dir:../dataset/Wiki500K/Yf.txt\n",
      "2022-10-11 10:56:03,833 - premethod - INFO - js_output_dir: ../dataset/Wiki500K/test_finetune20.json\n",
      "2022-10-11 10:56:03,833 - premethod - INFO - label_output:../dataset/Wiki500K/test_labels20.txt\n",
      "2022-10-11 10:56:03,833 - premethod - INFO - texts_output_dir../dataset/Wiki500K/test_texts20.txt\n",
      "501070it [00:00, 1341235.71it/s]\n",
      "39188it [00:01, 32169.37it/s]\n",
      "100%|██████████| 39188/39188 [00:01<00:00, 21157.16it/s]\n",
      "100%|██████████| 39188/39188 [00:00<00:00, 82086.90it/s]\n",
      "2022-10-11 10:56:07,931 - premethod - INFO - wiki500_change\n",
      "2022-10-11 10:56:07,932 - premethod - INFO - json_dir: ../dataset/Wiki500K/train_split20.json\n",
      "2022-10-11 10:56:07,932 - premethod - INFO - map_dir:../dataset/Wiki500K/Yf.txt\n",
      "2022-10-11 10:56:07,932 - premethod - INFO - js_output_dir: ../dataset/Wiki500K/train_finetune20.json\n",
      "2022-10-11 10:56:07,933 - premethod - INFO - label_output:../dataset/Wiki500K/train_labels20.txt\n",
      "2022-10-11 10:56:07,933 - premethod - INFO - texts_output_dir../dataset/Wiki500K/train_texts20.txt\n",
      "501070it [00:00, 1362137.06it/s]\n",
      "90670it [00:02, 33959.44it/s]\n",
      "100%|██████████| 90670/90670 [00:04<00:00, 21840.64it/s]\n",
      "100%|██████████| 90670/90670 [00:01<00:00, 81543.94it/s]\n"
     ]
    }
   ],
   "source": [
    "\n",
    "split_jsonfile(datadir[1]+\"test_split.json\",datadir[1]+\"test_split20.json\",2)\n",
    "split_jsonfile(datadir[1]+\"train_split.json\",datadir[1]+\"train_split20.json\",2)\n",
    "wiki500_change(datadir[1]+\"test_split20.json\",datadir[1]+\"Yf.txt\" ,datadir[1]+\"test_finetune20.json\",datadir[1]+\"test_labels20.txt\",datadir[1]+\"test_texts20.txt\")\n",
    "wiki500_change(datadir[1]+\"train_split20.json\",datadir[1]+\"Yf.txt\" ,datadir[1]+\"train_finetune20.json\",datadir[1]+\"train_labels20.txt\",datadir[1]+\"train_texts20.txt\")"
   ]
  },
  {
   "cell_type": "code",
   "execution_count": null,
   "metadata": {},
   "outputs": [],
   "source": [
    "wiki500_change(datadir[1]+\"train_split.json\",datadir[1]+\"train_change.json\")"
   ]
  },
  {
   "cell_type": "markdown",
   "metadata": {},
   "source": [
    "处理分割好的数据"
   ]
  }
 ],
 "metadata": {
  "kernelspec": {
   "display_name": "Python 3.8.13 ('ddd')",
   "language": "python",
   "name": "python3"
  },
  "language_info": {
   "codemirror_mode": {
    "name": "ipython",
    "version": 3
   },
   "file_extension": ".py",
   "mimetype": "text/x-python",
   "name": "python",
   "nbconvert_exporter": "python",
   "pygments_lexer": "ipython3",
   "version": "3.8.13"
  },
  "orig_nbformat": 4,
  "vscode": {
   "interpreter": {
    "hash": "10e709fa339e96f7843340ac24d9af89d0541623630336e668c3e9cf1c0623cc"
   }
  }
 },
 "nbformat": 4,
 "nbformat_minor": 2
}
