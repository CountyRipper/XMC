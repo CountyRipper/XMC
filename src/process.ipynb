{
 "cells": [
  {
   "cell_type": "code",
   "execution_count": 1,
   "metadata": {},
   "outputs": [
    {
     "name": "stderr",
     "output_type": "stream",
     "text": [
      "[nltk_data] Downloading package stopwords to /home/delab/nltk_data...\n",
      "[nltk_data]   Package stopwords is already up-to-date!\n",
      "2022-10-11 11:10:46,628 - sentence_transformers.cross_encoder.CrossEncoder - INFO - Use pytorch device: cuda\n",
      "[nltk_data] Downloading package stopwords to /home/delab/nltk_data...\n",
      "[nltk_data]   Package stopwords is already up-to-date!\n"
     ]
    }
   ],
   "source": [
    "from premethod import *\n",
    "from pegasus_fine_tune import *\n",
    "from generate_pegasus import *\n",
    "from combine import *\n",
    "from rank import rank\n",
    "from rank_training import rank_train\n",
    "from p_at_1 import p_at_k\n",
    "from keybart_finetune import *\n",
    "from keybart_generate import get_pred_Keybart\n",
    "from bart_finetune import fine_tune_bart\n",
    "from bart_generate import get_pred_bart\n",
    "### "
   ]
  },
  {
   "cell_type": "code",
   "execution_count": 7,
   "metadata": {},
   "outputs": [],
   "source": [
    "datadir = ['../dataset/EUR-Lex/','../dataset/Wiki500K/']\n",
    "k_fold = [0,1,2,3,4]\n",
    "tasks = ['test','train','valid']\n",
    "models = {'pega':0,'bart':1,'kb':0}\n",
    "gener = \"generate_result/\""
   ]
  },
  {
   "cell_type": "code",
   "execution_count": null,
   "metadata": {},
   "outputs": [],
   "source": [
    "dataname=[datadir[1]+tasks[0]+\"_labels20.txt\",datadir[1]+tasks[1]+\"_labels20.txt\"]\n",
    "get_all_labels(dataname,datadir[1]+\"all_labels20.txt\")\n",
    "get_all_stemlabels(datadir[1]+'all_labels20.txt',datadir[1]+'all_stemlabels20.txt')"
   ]
  },
  {
   "cell_type": "code",
   "execution_count": null,
   "metadata": {},
   "outputs": [],
   "source": [
    "# pegasus\n",
    "if models['pega']:\n",
    "        Pegasus_fine_tune(datadir[0],tasks[1]+'_finetune.json',tasks[0]+'_finetune.json',\"pegasus_save\",\"pegasus_check\")\n",
    "        for i in range(2):\n",
    "            get_pred_Pegasus_fast(datadir[1],gener+tasks[i]+\"_pred.txt\",tasks[i]+\"_finetune.json\",\"pegasus_save\")\n",
    "            get_combine_list(datadir[1],gener+tasks[i]+\"_pred.txt\",\"all_stemlabels.txt\",tasks[i]+\"_combine_labels.txt\")\n",
    "        rank_train(datadir[1],tasks[1]+\"_texts.txt\",tasks[1]+\"_combine_labels.txt\",tasks[1]+\"_labels_stem.txt\",\"cr_en\")\n",
    "        rank(datadir[1],tasks[0]+\"_texts.txt\",tasks[0]+\"_combine_labels.txt\",\"cr_en\",tasks[0]+\"_ranked_labels.txt\")\n",
    "        res = p_at_k(datadir[1],tasks[0]+\"_labels_stem.txt\",tasks[0]+\"_ranked_labels.txt\",datadir[1]+\"res_pega.txt\")\n"
   ]
  },
  {
   "cell_type": "code",
   "execution_count": 9,
   "metadata": {},
   "outputs": [
    {
     "name": "stdout",
     "output_type": "stream",
     "text": [
      "checkdir:../dataset/Wiki500K/bart_check\n",
      "save_dir:../dataset/Wiki500K/bart_save\n"
     ]
    },
    {
     "name": "stderr",
     "output_type": "stream",
     "text": [
      "2022-10-11 11:23:25,775 - datasets.builder - WARNING - Using custom data configuration default-c97e9f8d21ae981d\n",
      "2022-10-11 11:23:25,776 - datasets.builder - WARNING - Found cached dataset json (/home/delab/.cache/huggingface/datasets/json/default-c97e9f8d21ae981d/0.0.0/e6070c77f18f01a5ad4551a8b7edfba20b8438b7cad4d94e6ad9378022ce4aab)\n"
     ]
    },
    {
     "data": {
      "application/vnd.jupyter.widget-view+json": {
       "model_id": "b893d16719bd4bc58cc3b42af5d8b78a",
       "version_major": 2,
       "version_minor": 0
      },
      "text/plain": [
       "  0%|          | 0/2 [00:00<?, ?it/s]"
      ]
     },
     "metadata": {},
     "output_type": "display_data"
    },
    {
     "name": "stderr",
     "output_type": "stream",
     "text": [
      "2022-10-11 11:23:25,827 - datasets.arrow_dataset - WARNING - Loading cached shuffled indices for dataset at /home/delab/.cache/huggingface/datasets/json/default-c97e9f8d21ae981d/0.0.0/e6070c77f18f01a5ad4551a8b7edfba20b8438b7cad4d94e6ad9378022ce4aab/cache-8d5faf6a40d048f6.arrow\n",
      "2022-10-11 11:23:25,831 - datasets.arrow_dataset - WARNING - Loading cached shuffled indices for dataset at /home/delab/.cache/huggingface/datasets/json/default-c97e9f8d21ae981d/0.0.0/e6070c77f18f01a5ad4551a8b7edfba20b8438b7cad4d94e6ad9378022ce4aab/cache-378a28a744e6a486.arrow\n",
      "/home/delab/.conda/envs/ddd/lib/python3.8/site-packages/transformers/optimization.py:306: FutureWarning: This implementation of AdamW is deprecated and will be removed in a future version. Use the PyTorch implementation torch.optim.AdamW instead, or set `no_deprecation_warning=True` to disable this warning\n",
      "  warnings.warn(\n",
      "***** Running training *****\n",
      "  Num examples = 90670\n",
      "  Num Epochs = 5\n",
      "  Instantaneous batch size per device = 2\n",
      "  Total train batch size (w. parallel, distributed & accumulation) = 2\n",
      "  Gradient Accumulation steps = 1\n",
      "  Total optimization steps = 226675\n"
     ]
    },
    {
     "name": "stdout",
     "output_type": "stream",
     "text": [
      "training begin:\n"
     ]
    },
    {
     "data": {
      "application/vnd.jupyter.widget-view+json": {
       "model_id": "6c4ce21549f646239c5a557c83e0ab50",
       "version_major": 2,
       "version_minor": 0
      },
      "text/plain": [
       "  0%|          | 0/226675 [00:00<?, ?it/s]"
      ]
     },
     "metadata": {},
     "output_type": "display_data"
    },
    {
     "name": "stdout",
     "output_type": "stream",
     "text": [
      "{'loss': 3.0442, 'learning_rate': 5e-05, 'epoch': 0.01}\n",
      "{'loss': 0.0664, 'learning_rate': 4.98894661213662e-05, 'epoch': 0.02}\n",
      "{'loss': 0.0575, 'learning_rate': 4.97789322427324e-05, 'epoch': 0.03}\n",
      "{'loss': 0.0564, 'learning_rate': 4.96683983640986e-05, 'epoch': 0.04}\n",
      "{'loss': 0.0527, 'learning_rate': 4.95578644854648e-05, 'epoch': 0.06}\n",
      "{'loss': 0.0495, 'learning_rate': 4.944733060683099e-05, 'epoch': 0.07}\n",
      "{'loss': 0.0509, 'learning_rate': 4.9336796728197193e-05, 'epoch': 0.08}\n",
      "{'loss': 0.0476, 'learning_rate': 4.922626284956339e-05, 'epoch': 0.09}\n",
      "{'loss': 0.0498, 'learning_rate': 4.911572897092959e-05, 'epoch': 0.1}\n",
      "{'loss': 0.0484, 'learning_rate': 4.900519509229579e-05, 'epoch': 0.11}\n",
      "{'loss': 0.0454, 'learning_rate': 4.889466121366199e-05, 'epoch': 0.12}\n",
      "{'loss': 0.0452, 'learning_rate': 4.878412733502819e-05, 'epoch': 0.13}\n",
      "{'loss': 0.0462, 'learning_rate': 4.867359345639439e-05, 'epoch': 0.14}\n",
      "{'loss': 0.0463, 'learning_rate': 4.856305957776058e-05, 'epoch': 0.15}\n",
      "{'loss': 0.0444, 'learning_rate': 4.8452525699126784e-05, 'epoch': 0.17}\n",
      "{'loss': 0.0444, 'learning_rate': 4.834199182049298e-05, 'epoch': 0.18}\n",
      "{'loss': 0.0419, 'learning_rate': 4.823145794185918e-05, 'epoch': 0.19}\n",
      "{'loss': 0.0436, 'learning_rate': 4.812092406322538e-05, 'epoch': 0.2}\n",
      "{'loss': 0.0396, 'learning_rate': 4.801039018459158e-05, 'epoch': 0.21}\n",
      "{'loss': 0.0397, 'learning_rate': 4.789985630595778e-05, 'epoch': 0.22}\n",
      "{'loss': 0.0432, 'learning_rate': 4.778932242732398e-05, 'epoch': 0.23}\n",
      "{'loss': 0.0415, 'learning_rate': 4.767878854869017e-05, 'epoch': 0.24}\n",
      "{'loss': 0.039, 'learning_rate': 4.7568254670056374e-05, 'epoch': 0.25}\n",
      "{'loss': 0.0405, 'learning_rate': 4.745772079142257e-05, 'epoch': 0.26}\n",
      "{'loss': 0.0418, 'learning_rate': 4.7347186912788774e-05, 'epoch': 0.28}\n",
      "{'loss': 0.0406, 'learning_rate': 4.723665303415497e-05, 'epoch': 0.29}\n",
      "{'loss': 0.0378, 'learning_rate': 4.712611915552117e-05, 'epoch': 0.3}\n",
      "{'loss': 0.0385, 'learning_rate': 4.701558527688737e-05, 'epoch': 0.31}\n",
      "{'loss': 0.0406, 'learning_rate': 4.690505139825357e-05, 'epoch': 0.32}\n",
      "{'loss': 0.0393, 'learning_rate': 4.679451751961977e-05, 'epoch': 0.33}\n",
      "{'loss': 0.039, 'learning_rate': 4.6683983640985965e-05, 'epoch': 0.34}\n",
      "{'loss': 0.0391, 'learning_rate': 4.657344976235216e-05, 'epoch': 0.35}\n",
      "{'loss': 0.0394, 'learning_rate': 4.6462915883718364e-05, 'epoch': 0.36}\n",
      "{'loss': 0.0379, 'learning_rate': 4.635238200508456e-05, 'epoch': 0.37}\n",
      "{'loss': 0.0395, 'learning_rate': 4.6241848126450756e-05, 'epoch': 0.39}\n",
      "{'loss': 0.0399, 'learning_rate': 4.613131424781696e-05, 'epoch': 0.4}\n",
      "{'loss': 0.0382, 'learning_rate': 4.6020780369183156e-05, 'epoch': 0.41}\n",
      "{'loss': 0.037, 'learning_rate': 4.591024649054936e-05, 'epoch': 0.42}\n",
      "{'loss': 0.0366, 'learning_rate': 4.5799712611915555e-05, 'epoch': 0.43}\n",
      "{'loss': 0.0378, 'learning_rate': 4.568917873328175e-05, 'epoch': 0.44}\n",
      "{'loss': 0.0375, 'learning_rate': 4.557864485464795e-05, 'epoch': 0.45}\n",
      "{'loss': 0.0342, 'learning_rate': 4.546811097601415e-05, 'epoch': 0.46}\n",
      "{'loss': 0.0391, 'learning_rate': 4.535757709738035e-05, 'epoch': 0.47}\n",
      "{'loss': 0.0374, 'learning_rate': 4.524704321874655e-05, 'epoch': 0.49}\n",
      "{'loss': 0.0365, 'learning_rate': 4.5136509340112746e-05, 'epoch': 0.5}\n",
      "{'loss': 0.0369, 'learning_rate': 4.502597546147895e-05, 'epoch': 0.51}\n",
      "{'loss': 0.0361, 'learning_rate': 4.4915441582845145e-05, 'epoch': 0.52}\n",
      "{'loss': 0.0339, 'learning_rate': 4.480490770421134e-05, 'epoch': 0.53}\n",
      "{'loss': 0.0362, 'learning_rate': 4.469437382557754e-05, 'epoch': 0.54}\n",
      "{'loss': 0.0361, 'learning_rate': 4.458383994694374e-05, 'epoch': 0.55}\n",
      "{'loss': 0.0345, 'learning_rate': 4.447330606830994e-05, 'epoch': 0.56}\n",
      "{'loss': 0.0358, 'learning_rate': 4.436277218967614e-05, 'epoch': 0.57}\n",
      "{'loss': 0.0348, 'learning_rate': 4.4252238311042337e-05, 'epoch': 0.58}\n",
      "{'loss': 0.0348, 'learning_rate': 4.414170443240854e-05, 'epoch': 0.6}\n",
      "{'loss': 0.0353, 'learning_rate': 4.4031170553774736e-05, 'epoch': 0.61}\n",
      "{'loss': 0.0334, 'learning_rate': 4.392063667514093e-05, 'epoch': 0.62}\n",
      "{'loss': 0.0357, 'learning_rate': 4.381010279650713e-05, 'epoch': 0.63}\n",
      "{'loss': 0.033, 'learning_rate': 4.369956891787333e-05, 'epoch': 0.64}\n",
      "{'loss': 0.0339, 'learning_rate': 4.358903503923953e-05, 'epoch': 0.65}\n"
     ]
    },
    {
     "name": "stderr",
     "output_type": "stream",
     "text": [
      "Saving model checkpoint to ../dataset/Wiki500K/bart_check/checkpoint-30000\n",
      "Configuration saved in ../dataset/Wiki500K/bart_check/checkpoint-30000/config.json\n"
     ]
    },
    {
     "name": "stdout",
     "output_type": "stream",
     "text": [
      "{'loss': 0.0341, 'learning_rate': 4.347850116060573e-05, 'epoch': 0.66}\n"
     ]
    },
    {
     "name": "stderr",
     "output_type": "stream",
     "text": [
      "Model weights saved in ../dataset/Wiki500K/bart_check/checkpoint-30000/pytorch_model.bin\n",
      "tokenizer config file saved in ../dataset/Wiki500K/bart_check/checkpoint-30000/tokenizer_config.json\n",
      "Special tokens file saved in ../dataset/Wiki500K/bart_check/checkpoint-30000/special_tokens_map.json\n"
     ]
    },
    {
     "name": "stdout",
     "output_type": "stream",
     "text": [
      "{'loss': 0.0359, 'learning_rate': 4.336796728197193e-05, 'epoch': 0.67}\n",
      "{'loss': 0.0346, 'learning_rate': 4.325743340333813e-05, 'epoch': 0.68}\n",
      "{'loss': 0.0349, 'learning_rate': 4.3146899524704326e-05, 'epoch': 0.69}\n",
      "{'loss': 0.0332, 'learning_rate': 4.303636564607052e-05, 'epoch': 0.71}\n",
      "{'loss': 0.0315, 'learning_rate': 4.292583176743672e-05, 'epoch': 0.72}\n",
      "{'loss': 0.0333, 'learning_rate': 4.281529788880292e-05, 'epoch': 0.73}\n",
      "{'loss': 0.0333, 'learning_rate': 4.270476401016912e-05, 'epoch': 0.74}\n",
      "{'loss': 0.034, 'learning_rate': 4.2594230131535314e-05, 'epoch': 0.75}\n",
      "{'loss': 0.0341, 'learning_rate': 4.248369625290152e-05, 'epoch': 0.76}\n",
      "{'loss': 0.0335, 'learning_rate': 4.2373162374267714e-05, 'epoch': 0.77}\n",
      "{'loss': 0.0321, 'learning_rate': 4.226262849563392e-05, 'epoch': 0.78}\n",
      "{'loss': 0.0342, 'learning_rate': 4.215209461700011e-05, 'epoch': 0.79}\n",
      "{'loss': 0.0326, 'learning_rate': 4.204156073836631e-05, 'epoch': 0.81}\n",
      "{'loss': 0.0345, 'learning_rate': 4.1931026859732505e-05, 'epoch': 0.82}\n",
      "{'loss': 0.0354, 'learning_rate': 4.182049298109871e-05, 'epoch': 0.83}\n",
      "{'loss': 0.0333, 'learning_rate': 4.1709959102464905e-05, 'epoch': 0.84}\n",
      "{'loss': 0.0329, 'learning_rate': 4.159942522383111e-05, 'epoch': 0.85}\n",
      "{'loss': 0.0342, 'learning_rate': 4.1488891345197304e-05, 'epoch': 0.86}\n",
      "{'loss': 0.0311, 'learning_rate': 4.137835746656351e-05, 'epoch': 0.87}\n",
      "{'loss': 0.0321, 'learning_rate': 4.12678235879297e-05, 'epoch': 0.88}\n",
      "{'loss': 0.0328, 'learning_rate': 4.11572897092959e-05, 'epoch': 0.89}\n",
      "{'loss': 0.0328, 'learning_rate': 4.1046755830662096e-05, 'epoch': 0.9}\n",
      "{'loss': 0.0329, 'learning_rate': 4.09362219520283e-05, 'epoch': 0.92}\n"
     ]
    }
   ],
   "source": [
    "if models['bart']:\n",
    "        fine_tune_bart(datadir[1],tasks[1]+'_finetune20.json',tasks[0]+'_finetune20.json','bart_save','bart_check')\n",
    "        for i in range(2):\n",
    "            get_pred_bart(datadir[1],gener+tasks[i]+\"_pred_ba.txt\",tasks[i]+\"_finetune20.json\",\"bart_save\")\n",
    "            bart_clean(datadir[1]+gener+tasks[i]+\"_pred_ba.txt\",datadir[1]+gener+tasks[i]+\"_pred_ba_c.txt\")\n",
    "            get_combine_list(datadir[1],gener+tasks[i]+\"_pred_ba_c.txt\",\"all_stemlabels20.txt\",gener+tasks[i]+\"_combine_labels_ba.txt\")\n",
    "        rank_train(datadir[1],tasks[1]+\"_texts.txt\",gener+tasks[1]+\"_combine_labels_ba.txt\",tasks[1]+\"_labels20.txt\",\"cr_en_ba\")\n",
    "        rank(datadir[1],tasks[0]+\"_texts20.txt\",gener+tasks[0]+\"_combine_labels_ba.txt\",\"cr_en_ba\",gener+tasks[0]+\"_ranked_labels_ba.txt\")\n",
    "        res = p_at_k(datadir[1],tasks[0]+\"_labels20.txt\",gener+tasks[0]+\"_ranked_labels_ba.txt\",datadir[1]+\"ba_res.txt\")"
   ]
  },
  {
   "cell_type": "code",
   "execution_count": null,
   "metadata": {},
   "outputs": [],
   "source": [
    "if models['kb']:    \n",
    "        #kb_fine_tune(datadir[0],\"kb_save\",\"kb_check\")\n",
    "        fine_tune_keybart(datadir[1],tasks[1]+'_finetune.json',tasks[0]+'_finetune.json','keybart_save','keybart_test')\n",
    "        for i in range(2):\n",
    "            get_pred_Keybart(datadir[0],gener+tasks[i]+\"_pred_kb.txt\",tasks[i]+\"_finetune.json\",\"keybart_save\")\n",
    "            bart_clean(datadir[0]+gener+tasks[i]+\"_pred_kb.txt\",datadir[0]+gener+tasks[i]+\"_pred_kb_c.txt\")\n",
    "            get_combine_list(datadir[0],gener+tasks[i]+\"_pred_kb_c.txt\",\"all_labels_sterm.txt\",gener+tasks[i]+\"_combine_labels_kb.txt\")"
   ]
  },
  {
   "cell_type": "markdown",
   "metadata": {},
   "source": [
    "##### K则验证"
   ]
  },
  {
   "cell_type": "code",
   "execution_count": null,
   "metadata": {},
   "outputs": [],
   "source": [
    "for j in k_fold:\n",
    "    k_dir = \"/K_fold/\"+\"K_\"+str(j)+\"/\"\n",
    "    Pegasus_fine_tune(datadir[0]+k_dir,tasks[1]+'.json',tasks[0]+'.json',\"pegasus_save\",\"pegasus_check\")\n",
    "    for i in range(2):\n",
    "        get_pred_Pegasus(datadir[0]+k_dir,tasks[i]+\"_pred.txt\",tasks[i]+\".json\",\"pegasus_save\")\n",
    "        get_combine_list(datadir[0]+k_dir,tasks[i]+\"_pred.txt\",\"all_stemlabels.txt\",tasks[i]+\"_combine_labels.txt\")\n",
    "    rank_train(datadir[0]+k_dir,tasks[1]+\"_texts.txt\",tasks[1]+\"_combine_labels.txt\",tasks[1]+\"_labels_stem.txt\",\"cr_en_\"+str(j))\n",
    "    rank(datadir[0]+k_dir,tasks[0]+\"_texts.txt\",tasks[0]+\"_combine_labels.txt\",\"cr_en_\"+str(j),tasks[0]+\"_ranked_labels.txt\")\n",
    "    res = p_at_k(datadir[0]+k_dir,tasks[0]+\"_labels_stem.txt\",tasks[0]+\"_ranked_labels.txt\",datadir[0]+k_dir+\"res.txt\")"
   ]
  },
  {
   "cell_type": "code",
   "execution_count": null,
   "metadata": {},
   "outputs": [],
   "source": []
  }
 ],
 "metadata": {
  "kernelspec": {
   "display_name": "Python 3.8.13 ('ddd')",
   "language": "python",
   "name": "python3"
  },
  "language_info": {
   "codemirror_mode": {
    "name": "ipython",
    "version": 3
   },
   "file_extension": ".py",
   "mimetype": "text/x-python",
   "name": "python",
   "nbconvert_exporter": "python",
   "pygments_lexer": "ipython3",
   "version": "3.8.13"
  },
  "orig_nbformat": 4,
  "vscode": {
   "interpreter": {
    "hash": "10e709fa339e96f7843340ac24d9af89d0541623630336e668c3e9cf1c0623cc"
   }
  }
 },
 "nbformat": 4,
 "nbformat_minor": 2
}
