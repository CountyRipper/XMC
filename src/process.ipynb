{
 "cells": [
  {
   "cell_type": "code",
   "execution_count": 1,
   "metadata": {},
   "outputs": [
    {
     "name": "stderr",
     "output_type": "stream",
     "text": [
      "[nltk_data] Downloading package stopwords to /home/delab/nltk_data...\n",
      "[nltk_data]   Package stopwords is already up-to-date!\n",
      "2022-10-27 14:50:36,390 - sentence_transformers.cross_encoder.CrossEncoder - INFO - Use pytorch device: cuda\n",
      "2022-10-27 14:50:36,391 - sentence_transformers.SentenceTransformer - INFO - Load pretrained SentenceTransformer: all-MiniLM-L6-v2\n",
      "2022-10-27 14:50:36,564 - sentence_transformers.SentenceTransformer - INFO - Use pytorch device: cuda\n",
      "[nltk_data] Downloading package stopwords to /home/delab/nltk_data...\n",
      "[nltk_data]   Package stopwords is already up-to-date!\n"
     ]
    }
   ],
   "source": [
    "from premethod import *\n",
    "from pegasus_fine_tune import *\n",
    "from generate_pegasus import *\n",
    "from combine import *\n",
    "from rank import rank\n",
    "from rank_training import rank_train\n",
    "from p_at_1 import p_at_k\n",
    "from keybart_finetune import *\n",
    "from keybart_generate import get_pred_Keybart\n",
    "from bart_finetune import fine_tune_bart\n",
    "from bart_generate import get_pred_bart\n",
    "### "
   ]
  },
  {
   "cell_type": "code",
   "execution_count": 3,
   "metadata": {},
   "outputs": [],
   "source": [
    "datadir = ['../dataset/EUR-Lex/','../dataset/Wiki500K/','../dataset/AmazonCat-13K/']\n",
    "k_fold = [0,1,2,3,4]\n",
    "tasks = ['test','train','valid']\n",
    "models = {'pega':0,'bart':1,'kb':0}\n",
    "gener = \"generate_result/\"\n",
    "da = 2 #AmazonCat-13K"
   ]
  },
  {
   "cell_type": "code",
   "execution_count": 4,
   "metadata": {},
   "outputs": [],
   "source": [
    "dataname=[datadir[da]+tasks[0]+\"_labels.txt\",datadir[da]+tasks[1]+\"_labels.txt\"]\n",
    "get_all_labels(dataname,datadir[da]+\"all_labels.txt\")\n",
    "#get_all_stemlabels(datadir[1]+'all_labels20.txt',datadir[1]+'all_stemlabels20.txt')"
   ]
  },
  {
   "cell_type": "code",
   "execution_count": null,
   "metadata": {},
   "outputs": [],
   "source": [
    "# pegasus\n",
    "if models['pega']:\n",
    "        Pegasus_fine_tune(datadir[0],tasks[1]+'_finetune.json',tasks[0]+'_finetune.json',\"pegasus_save\",\"pegasus_check\")\n",
    "        for i in range(2):\n",
    "            get_pred_Pegasus_fast(datadir[1],gener+tasks[i]+\"_pred.txt\",tasks[i]+\"_finetune.json\",\"pegasus_save\")\n",
    "            get_combine_list(datadir[1],gener+tasks[i]+\"_pred.txt\",\"all_stemlabels.txt\",tasks[i]+\"_combine_labels.txt\")\n",
    "        rank_train(datadir[1],tasks[1]+\"_texts.txt\",tasks[1]+\"_combine_labels.txt\",tasks[1]+\"_labels_stem.txt\",\"cr_en\")\n",
    "        rank(datadir[1],tasks[0]+\"_texts.txt\",tasks[0]+\"_combine_labels.txt\",\"cr_en\",tasks[0]+\"_ranked_labels.txt\")\n",
    "        res = p_at_k(datadir[1],tasks[0]+\"_labels_stem.txt\",tasks[0]+\"_ranked_labels.txt\",datadir[1]+\"res_pega.txt\")\n"
   ]
  },
  {
   "cell_type": "code",
   "execution_count": 3,
   "metadata": {},
   "outputs": [
    {
     "name": "stdout",
     "output_type": "stream",
     "text": [
      "p_at_k:\n",
      "\n",
      "src_label: ../dataset/Wiki500K/test_labels20.txt\n",
      "pred_label: ../dataset/Wiki500K/generate_result/test_combine_labels_ba.txt\n",
      "p@1= 0.5776258038174952\n",
      "p@3= 0.4747711884590521\n",
      "p@5= 0.3861284066550985\n"
     ]
    }
   ],
   "source": [
    "if models['bart']:\n",
    "        fine_tune_bart(datadir[1],tasks[1]+'_finetune20.json',tasks[0]+'_finetune20.json','bart_save','bart_check')\n",
    "        for i in range(2):\n",
    "            get_pred_bart(datadir[1],gener+tasks[i]+\"_pred_ba.txt\",tasks[i]+\"_finetune20.json\",\"bart_save\")\n",
    "            bart_clean(datadir[1]+gener+tasks[i]+\"_pred_ba.txt\",datadir[1]+gener+tasks[i]+\"_pred_ba_c.txt\")\n",
    "            get_combine_list(datadir[1],gener+tasks[i]+\"_pred_ba.txt\",\"all_labels20.txt\",gener+tasks[i]+\"_combine_labels_ba.txt\")\n",
    "        rank_train(datadir[1],tasks[1]+\"_texts.txt\",gener+tasks[1]+\"_combine_labels_ba.txt\",tasks[1]+\"_labels20.txt\",\"cr_en_ba\")\n",
    "        rank(datadir[1],tasks[0]+\"_texts20.txt\",gener+tasks[0]+\"_combine_labels_ba.txt\",\"cr_en_ba\",gener+tasks[0]+\"_ranked_labels_ba.txt\")\n",
    "        res = p_at_k(datadir[1],tasks[0]+\"_labels20.txt\",gener+tasks[0]+\"_combine_labels_ba.txt\",datadir[1]+\"ba_res.txt\")"
   ]
  },
  {
   "cell_type": "code",
   "execution_count": null,
   "metadata": {},
   "outputs": [],
   "source": [
    "if models['kb']:    \n",
    "        #kb_fine_tune(datadir[0],\"kb_save\",\"kb_check\")\n",
    "        fine_tune_keybart(datadir[1],tasks[1]+'_finetune.json',tasks[0]+'_finetune.json','keybart_save','keybart_test')\n",
    "        for i in range(2):\n",
    "            get_pred_Keybart(datadir[0],gener+tasks[i]+\"_pred_kb.txt\",tasks[i]+\"_finetune.json\",\"keybart_save\")\n",
    "            bart_clean(datadir[0]+gener+tasks[i]+\"_pred_kb.txt\",datadir[0]+gener+tasks[i]+\"_pred_kb_c.txt\")\n",
    "            get_combine_list(datadir[0],gener+tasks[i]+\"_pred_kb_c.txt\",\"all_labels_sterm.txt\",gener+tasks[i]+\"_combine_labels_kb.txt\")"
   ]
  },
  {
   "cell_type": "markdown",
   "metadata": {},
   "source": [
    "##### K则验证"
   ]
  },
  {
   "cell_type": "code",
   "execution_count": null,
   "metadata": {},
   "outputs": [],
   "source": [
    "for j in k_fold:\n",
    "    k_dir = \"/K_fold/\"+\"K_\"+str(j)+\"/\"\n",
    "    Pegasus_fine_tune(datadir[0]+k_dir,tasks[1]+'.json',tasks[0]+'.json',\"pegasus_save\",\"pegasus_check\")\n",
    "    for i in range(2):\n",
    "        get_pred_Pegasus(datadir[0]+k_dir,tasks[i]+\"_pred.txt\",tasks[i]+\".json\",\"pegasus_save\")\n",
    "        get_combine_list(datadir[0]+k_dir,tasks[i]+\"_pred.txt\",\"all_stemlabels.txt\",tasks[i]+\"_combine_labels.txt\")\n",
    "    rank_train(datadir[0]+k_dir,tasks[1]+\"_texts.txt\",tasks[1]+\"_combine_labels.txt\",tasks[1]+\"_labels_stem.txt\",\"cr_en_\"+str(j))\n",
    "    rank(datadir[0]+k_dir,tasks[0]+\"_texts.txt\",tasks[0]+\"_combine_labels.txt\",\"cr_en_\"+str(j),tasks[0]+\"_ranked_labels.txt\")\n",
    "    res = p_at_k(datadir[0]+k_dir,tasks[0]+\"_labels_stem.txt\",tasks[0]+\"_ranked_labels.txt\",datadir[0]+k_dir+\"res.txt\")"
   ]
  },
  {
   "cell_type": "code",
   "execution_count": null,
   "metadata": {},
   "outputs": [],
   "source": []
  }
 ],
 "metadata": {
  "kernelspec": {
   "display_name": "Python 3.8.13 ('ddd')",
   "language": "python",
   "name": "python3"
  },
  "language_info": {
   "codemirror_mode": {
    "name": "ipython",
    "version": 3
   },
   "file_extension": ".py",
   "mimetype": "text/x-python",
   "name": "python",
   "nbconvert_exporter": "python",
   "pygments_lexer": "ipython3",
   "version": "3.8.13"
  },
  "orig_nbformat": 4,
  "vscode": {
   "interpreter": {
    "hash": "10e709fa339e96f7843340ac24d9af89d0541623630336e668c3e9cf1c0623cc"
   }
  }
 },
 "nbformat": 4,
 "nbformat_minor": 2
}
