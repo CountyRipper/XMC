{
 "cells": [
  {
   "cell_type": "code",
   "execution_count": 4,
   "metadata": {},
   "outputs": [],
   "source": [
    "import jieba\n",
    "import jieba.posseg\n",
    "import jieba.analyse\n",
    "from tqdm import tqdm"
   ]
  },
  {
   "cell_type": "code",
   "execution_count": 7,
   "metadata": {},
   "outputs": [],
   "source": [
    "import fast_jieba as jieba\n",
    "import fast_jieba.analyse"
   ]
  },
  {
   "cell_type": "code",
   "execution_count": 1,
   "metadata": {},
   "outputs": [],
   "source": [
    "from cluster import *"
   ]
  },
  {
   "cell_type": "code",
   "execution_count": 7,
   "metadata": {},
   "outputs": [
    {
     "name": "stdout",
     "output_type": "stream",
     "text": [
      "../dataset/Wiki500K/all_labels.txt\n"
     ]
    }
   ],
   "source": [
    "labels =[]\n",
    "with open('../dataset/Wiki500K/Yf.txt','r+') as f:\n",
    "    for row in f:\n",
    "        labels.append(row.replace(\"Category:\",\"\").split(\"->\")[0])\n",
    "with open('../dataset/Wiki500K/all_labels.txt','w+') as w:\n",
    "    \n",
    "    for i in labels:\n",
    "        w.write(i+\"\\n\")\n",
    "print(\"../dataset/Wiki500K/all_labels.txt\")"
   ]
  },
  {
   "cell_type": "code",
   "execution_count": 10,
   "metadata": {},
   "outputs": [],
   "source": [
    "text_list = []\n",
    "label_list = []\n",
    "with open('../dataset/Wiki500K/test_texts.txt', 'r+') as f:\n",
    "    for row in f:\n",
    "        text_list.append(row)\n",
    "with open('../dataset/Wiki500K/test_labels.txt', 'r+') as f:\n",
    "    for row in f:\n",
    "        label_list.append(row)\n",
    "avg_len = []\n",
    "for i in range(len(text_list)):\n",
    "    avg_len.append(int(len(text_list[i])/len(label_list[i].split(\", \"))))\n",
    "with open('../dataset/Wiki500K/test_avg_length.txt','w+') as w:\n",
    "    for i in avg_len:\n",
    "        w.write(str(i)+\"\\n\")"
   ]
  },
  {
   "cell_type": "code",
   "execution_count": 13,
   "metadata": {},
   "outputs": [
    {
     "name": "stderr",
     "output_type": "stream",
     "text": [
      "100%|██████████| 78375/78375 [02:26<00:00, 534.55it/s]\n"
     ]
    }
   ],
   "source": [
    "text_list = []\n",
    "res = []\n",
    "with open('../dataset/Wiki500K/test_texts.txt', 'r+') as f:\n",
    "    for row in f:\n",
    "        text_list.append(row)\n",
    "for i in tqdm(text_list):\n",
    "    res.append(jieba.analyse.textrank(i,topK=10))\n",
    "\n",
    "with open('../dataset/Wiki500K/test_texts_textrank_topk.txt','w+') as w:\n",
    "    for i in res:\n",
    "        w.write(str(i)+\"\\n\")\n",
    "        "
   ]
  }
 ],
 "metadata": {
  "kernelspec": {
   "display_name": "Python 3.8.13 ('ddd')",
   "language": "python",
   "name": "python3"
  },
  "language_info": {
   "codemirror_mode": {
    "name": "ipython",
    "version": 3
   },
   "file_extension": ".py",
   "mimetype": "text/x-python",
   "name": "python",
   "nbconvert_exporter": "python",
   "pygments_lexer": "ipython3",
   "version": "3.8.13"
  },
  "orig_nbformat": 4,
  "vscode": {
   "interpreter": {
    "hash": "10e709fa339e96f7843340ac24d9af89d0541623630336e668c3e9cf1c0623cc"
   }
  }
 },
 "nbformat": 4,
 "nbformat_minor": 2
}
